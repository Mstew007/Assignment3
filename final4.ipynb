{
  "nbformat": 4,
  "nbformat_minor": 0,
  "metadata": {
    "colab": {
      "provenance": [],
      "authorship_tag": "ABX9TyOtPt7pnke1BWa5mDRML4wH",
      "include_colab_link": true
    },
    "kernelspec": {
      "name": "python3",
      "display_name": "Python 3"
    },
    "language_info": {
      "name": "python"
    }
  },
  "cells": [
    {
      "cell_type": "markdown",
      "metadata": {
        "id": "view-in-github",
        "colab_type": "text"
      },
      "source": [
        "<a href=\"https://colab.research.google.com/github/Mstew007/Assignment3/blob/main/final4.ipynb\" target=\"_parent\"><img src=\"https://colab.research.google.com/assets/colab-badge.svg\" alt=\"Open In Colab\"/></a>"
      ]
    },
    {
      "cell_type": "code",
      "execution_count": 5,
      "metadata": {
        "colab": {
          "base_uri": "https://localhost:8080/"
        },
        "id": "GtzwALubbE9H",
        "outputId": "7fd7ddcd-3aa9-4cf4-80c4-7e7aa34a32ad"
      },
      "outputs": [
        {
          "output_type": "stream",
          "name": "stdout",
          "text": [
            "8\n",
            "8\n",
            "8\n",
            "8.0\n",
            "My favorite number is 11.\n"
          ]
        }
      ],
      "source": [
        "#2.9\n",
        "print(5+3)\n",
        "print(11-3)\n",
        "print(2*4)\n",
        "print(64/8)\n",
        "#this program prints out addition, subtraction, multiplication, and divison. the numbers all are equal to 8!\n",
        "\n",
        "#2.10\n",
        "favorite_number = 11\n",
        "msg = f\"My favorite number is {favorite_number}.\"\n",
        "\n",
        "print(msg)\n",
        "#this program prints out and lets the user know what my favorite numver is!\n",
        "#2.11 done"
      ]
    }
  ]
}