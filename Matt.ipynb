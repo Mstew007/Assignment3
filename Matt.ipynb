{
  "nbformat": 4,
  "nbformat_minor": 0,
  "metadata": {
    "colab": {
      "provenance": [],
      "authorship_tag": "ABX9TyNUvbJKtbt8+w1E4hFq7KrX",
      "include_colab_link": true
    },
    "kernelspec": {
      "name": "python3",
      "display_name": "Python 3"
    },
    "language_info": {
      "name": "python"
    }
  },
  "cells": [
    {
      "cell_type": "markdown",
      "metadata": {
        "id": "view-in-github",
        "colab_type": "text"
      },
      "source": [
        "<a href=\"https://colab.research.google.com/github/Mstew007/Assignment3/blob/main/Matt.ipynb\" target=\"_parent\"><img src=\"https://colab.research.google.com/assets/colab-badge.svg\" alt=\"Open In Colab\"/></a>"
      ]
    },
    {
      "cell_type": "code",
      "execution_count": 6,
      "metadata": {
        "colab": {
          "base_uri": "https://localhost:8080/"
        },
        "id": "W1mRyydkWOS1",
        "outputId": "ebf8d69e-1f3d-4245-e4c0-b86c55b6875a"
      },
      "outputs": [
        {
          "output_type": "stream",
          "name": "stdout",
          "text": [
            "matt Matt, would you like to learn some Python today?\n"
          ]
        }
      ],
      "source": [
        "name = \"matt\"\n",
        "msg = f\"matt {name.title()}, would you like to learn some Python today?\"\n",
        "\n",
        "print(msg)"
      ]
    }
  ]
}