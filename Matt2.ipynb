{
  "nbformat": 4,
  "nbformat_minor": 0,
  "metadata": {
    "colab": {
      "provenance": [],
      "authorship_tag": "ABX9TyMf+KygLlwRXpLoN6zMdtfY",
      "include_colab_link": true
    },
    "kernelspec": {
      "name": "python3",
      "display_name": "Python 3"
    },
    "language_info": {
      "name": "python"
    }
  },
  "cells": [
    {
      "cell_type": "markdown",
      "metadata": {
        "id": "view-in-github",
        "colab_type": "text"
      },
      "source": [
        "<a href=\"https://colab.research.google.com/github/Mstew007/Assignment3/blob/main/Matt2.ipynb\" target=\"_parent\"><img src=\"https://colab.research.google.com/assets/colab-badge.svg\" alt=\"Open In Colab\"/></a>"
      ]
    },
    {
      "cell_type": "code",
      "execution_count": 24,
      "metadata": {
        "colab": {
          "base_uri": "https://localhost:8080/"
        },
        "id": "W1mRyydkWOS1",
        "outputId": "3f01f53b-514e-4c83-969a-76bcef11feed"
      },
      "outputs": [
        {
          "output_type": "stream",
          "name": "stdout",
          "text": [
            "matt Matt, would you like to learn some Python today?\n",
            "matt\n",
            "MATT\n",
            "Matt\n",
            "Martin Luther King Jr. most famous quote is \"\"Darkness cannot drive out darkness, only light can do that.\n",
            "Hate cannot drive out hate, only love can do that.\"\n",
            "Martin Luther King Jr. famous quote is \"\"Darkness cannot drive out darkness, only light can do that. Hate cannot drive out hate, only love can do that.\"\n",
            "Unmodified:\n",
            "\tMatt Stewart\n",
            "\n",
            "\n",
            "lstrip\n",
            "Matt Stewart\n",
            "\n",
            "\n",
            "rstrip\n",
            "\tMatt Stewart\n",
            "\n",
            "strip\n",
            "Matt Stewart\n",
            "python_notes\n"
          ]
        }
      ],
      "source": [
        "#2.3\n",
        "name = \"matt\"\n",
        "msg = f\"matt {name.title()}, would you like to learn some Python today?\"\n",
        "\n",
        "print(msg)\n",
        "\n",
        "#2.4\n",
        "name = \"matt\"\n",
        "\n",
        "print(name.lower())\n",
        "print(name.upper())\n",
        "print(name.title())\n",
        "\n",
        "#2.5\n",
        "print('Martin Luther King Jr. most famous quote is \"\"Darkness cannot drive out darkness, only light can do that.')\n",
        "print('Hate cannot drive out hate, only love can do that.\"')\n",
        "\n",
        "#2.6\n",
        "famous_person = \"Martin Luther King Jr.\"\n",
        "\n",
        "message = f'{famous_person} famous quote is \"\"Darkness cannot drive out darkness, only light can do that. Hate cannot drive out hate, only love can do that.\"'\n",
        "\n",
        "print(message)\n",
        "\n",
        "#2.7\n",
        "name = \"\\tMatt Stewart\\n\"\n",
        "\n",
        "print(\"Unmodified:\")\n",
        "print(name)\n",
        "\n",
        "print(\"\\nlstrip\")\n",
        "print(name.lstrip())\n",
        "\n",
        "print(\"\\nrstrip\")\n",
        "print(name.rstrip())\n",
        "\n",
        "print(\"\\nstrip\")\n",
        "print(name.strip())\n",
        "\n",
        "#2.8\n",
        "filename = 'python_notes.txt'\n",
        "simple_filename = filename.removesuffix('.txt')\n",
        "\n",
        "print(simple_filename)"
      ]
    }
  ]
}