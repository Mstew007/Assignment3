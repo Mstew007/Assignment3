{
  "nbformat": 4,
  "nbformat_minor": 0,
  "metadata": {
    "colab": {
      "provenance": [],
      "authorship_tag": "ABX9TyMx/Mks4f8RVY1lULUCLry6",
      "include_colab_link": true
    },
    "kernelspec": {
      "name": "python3",
      "display_name": "Python 3"
    },
    "language_info": {
      "name": "python"
    }
  },
  "cells": [
    {
      "cell_type": "markdown",
      "metadata": {
        "id": "view-in-github",
        "colab_type": "text"
      },
      "source": [
        "<a href=\"https://colab.research.google.com/github/Mstew007/Assignment3/blob/main/ilovepython0.ipynb\" target=\"_parent\"><img src=\"https://colab.research.google.com/assets/colab-badge.svg\" alt=\"Open In Colab\"/></a>"
      ]
    },
    {
      "cell_type": "code",
      "execution_count": null,
      "metadata": {
        "colab": {
          "base_uri": "https://localhost:8080/"
        },
        "id": "kxIpah82TsX3",
        "outputId": "aeaf4b55-5591-42c9-cb5b-9b69e1b8cd2a"
      },
      "outputs": [
        {
          "output_type": "stream",
          "name": "stdout",
          "text": [
            "I love Python\n",
            "I love Coding\n"
          ]
        }
      ],
      "source": [
        "msg = \"I love Python\"\n",
        "print(msg)\n",
        "\n",
        "msg = \"I love Coding\"\n",
        "print(msg)\n",
        "\n"
      ]
    }
  ]
}